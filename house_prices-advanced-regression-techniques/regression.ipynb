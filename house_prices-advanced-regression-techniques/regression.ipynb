{
 "cells": [
  {
   "cell_type": "markdown",
   "id": "98f80db9",
   "metadata": {},
   "source": [
    "### Multi-Linear Regression(MLR) : 다중회귀"
   ]
  },
  {
   "cell_type": "markdown",
   "id": "ac87eed3",
   "metadata": {},
   "source": [
    "* 독립 변수 2개 이상\n",
    "* 수치형 자료 여러 개 묶어서 때리면 좋을 듯"
   ]
  },
  {
   "cell_type": "code",
   "execution_count": 2,
   "id": "8a84a64b",
   "metadata": {},
   "outputs": [],
   "source": [
    "# GrLivArea : 지상생활권 면적\n",
    "# FullBath : 화장실 개수\n",
    "# LowQualFinSF : 품질 상태 낮은 구역 면적"
   ]
  },
  {
   "cell_type": "code",
   "execution_count": 3,
   "id": "b21b38e8",
   "metadata": {},
   "outputs": [
    {
     "data": {
      "text/html": [
       "<div>\n",
       "<style scoped>\n",
       "    .dataframe tbody tr th:only-of-type {\n",
       "        vertical-align: middle;\n",
       "    }\n",
       "\n",
       "    .dataframe tbody tr th {\n",
       "        vertical-align: top;\n",
       "    }\n",
       "\n",
       "    .dataframe thead th {\n",
       "        text-align: right;\n",
       "    }\n",
       "</style>\n",
       "<table border=\"1\" class=\"dataframe\">\n",
       "  <thead>\n",
       "    <tr style=\"text-align: right;\">\n",
       "      <th></th>\n",
       "      <th>Id</th>\n",
       "      <th>MSSubClass</th>\n",
       "      <th>MSZoning</th>\n",
       "      <th>LotFrontage</th>\n",
       "      <th>LotArea</th>\n",
       "      <th>Street</th>\n",
       "      <th>Alley</th>\n",
       "      <th>LotShape</th>\n",
       "      <th>LandContour</th>\n",
       "      <th>Utilities</th>\n",
       "      <th>...</th>\n",
       "      <th>PoolArea</th>\n",
       "      <th>PoolQC</th>\n",
       "      <th>Fence</th>\n",
       "      <th>MiscFeature</th>\n",
       "      <th>MiscVal</th>\n",
       "      <th>MoSold</th>\n",
       "      <th>YrSold</th>\n",
       "      <th>SaleType</th>\n",
       "      <th>SaleCondition</th>\n",
       "      <th>SalePrice</th>\n",
       "    </tr>\n",
       "  </thead>\n",
       "  <tbody>\n",
       "    <tr>\n",
       "      <th>57</th>\n",
       "      <td>58</td>\n",
       "      <td>60</td>\n",
       "      <td>RL</td>\n",
       "      <td>89.0</td>\n",
       "      <td>11645</td>\n",
       "      <td>Pave</td>\n",
       "      <td>NaN</td>\n",
       "      <td>IR1</td>\n",
       "      <td>Lvl</td>\n",
       "      <td>AllPub</td>\n",
       "      <td>...</td>\n",
       "      <td>0</td>\n",
       "      <td>NaN</td>\n",
       "      <td>NaN</td>\n",
       "      <td>NaN</td>\n",
       "      <td>0</td>\n",
       "      <td>8</td>\n",
       "      <td>2006</td>\n",
       "      <td>WD</td>\n",
       "      <td>Normal</td>\n",
       "      <td>196500</td>\n",
       "    </tr>\n",
       "    <tr>\n",
       "      <th>887</th>\n",
       "      <td>888</td>\n",
       "      <td>50</td>\n",
       "      <td>RL</td>\n",
       "      <td>59.0</td>\n",
       "      <td>16466</td>\n",
       "      <td>Pave</td>\n",
       "      <td>NaN</td>\n",
       "      <td>IR1</td>\n",
       "      <td>Lvl</td>\n",
       "      <td>AllPub</td>\n",
       "      <td>...</td>\n",
       "      <td>0</td>\n",
       "      <td>NaN</td>\n",
       "      <td>NaN</td>\n",
       "      <td>NaN</td>\n",
       "      <td>0</td>\n",
       "      <td>4</td>\n",
       "      <td>2008</td>\n",
       "      <td>WD</td>\n",
       "      <td>Normal</td>\n",
       "      <td>135500</td>\n",
       "    </tr>\n",
       "    <tr>\n",
       "      <th>1174</th>\n",
       "      <td>1175</td>\n",
       "      <td>70</td>\n",
       "      <td>RL</td>\n",
       "      <td>80.0</td>\n",
       "      <td>16560</td>\n",
       "      <td>Pave</td>\n",
       "      <td>NaN</td>\n",
       "      <td>IR1</td>\n",
       "      <td>Lvl</td>\n",
       "      <td>AllPub</td>\n",
       "      <td>...</td>\n",
       "      <td>0</td>\n",
       "      <td>NaN</td>\n",
       "      <td>NaN</td>\n",
       "      <td>NaN</td>\n",
       "      <td>0</td>\n",
       "      <td>7</td>\n",
       "      <td>2006</td>\n",
       "      <td>WD</td>\n",
       "      <td>Normal</td>\n",
       "      <td>239000</td>\n",
       "    </tr>\n",
       "    <tr>\n",
       "      <th>1164</th>\n",
       "      <td>1165</td>\n",
       "      <td>80</td>\n",
       "      <td>RL</td>\n",
       "      <td>NaN</td>\n",
       "      <td>16157</td>\n",
       "      <td>Pave</td>\n",
       "      <td>NaN</td>\n",
       "      <td>IR1</td>\n",
       "      <td>Lvl</td>\n",
       "      <td>AllPub</td>\n",
       "      <td>...</td>\n",
       "      <td>0</td>\n",
       "      <td>NaN</td>\n",
       "      <td>NaN</td>\n",
       "      <td>NaN</td>\n",
       "      <td>0</td>\n",
       "      <td>6</td>\n",
       "      <td>2007</td>\n",
       "      <td>WD</td>\n",
       "      <td>Normal</td>\n",
       "      <td>194000</td>\n",
       "    </tr>\n",
       "    <tr>\n",
       "      <th>820</th>\n",
       "      <td>821</td>\n",
       "      <td>60</td>\n",
       "      <td>RL</td>\n",
       "      <td>72.0</td>\n",
       "      <td>7226</td>\n",
       "      <td>Pave</td>\n",
       "      <td>NaN</td>\n",
       "      <td>IR1</td>\n",
       "      <td>Lvl</td>\n",
       "      <td>AllPub</td>\n",
       "      <td>...</td>\n",
       "      <td>0</td>\n",
       "      <td>NaN</td>\n",
       "      <td>NaN</td>\n",
       "      <td>NaN</td>\n",
       "      <td>0</td>\n",
       "      <td>6</td>\n",
       "      <td>2008</td>\n",
       "      <td>WD</td>\n",
       "      <td>Normal</td>\n",
       "      <td>183000</td>\n",
       "    </tr>\n",
       "  </tbody>\n",
       "</table>\n",
       "<p>5 rows × 81 columns</p>\n",
       "</div>"
      ],
      "text/plain": [
       "        Id  MSSubClass MSZoning  LotFrontage  LotArea Street Alley LotShape  \\\n",
       "57      58          60       RL         89.0    11645   Pave   NaN      IR1   \n",
       "887    888          50       RL         59.0    16466   Pave   NaN      IR1   \n",
       "1174  1175          70       RL         80.0    16560   Pave   NaN      IR1   \n",
       "1164  1165          80       RL          NaN    16157   Pave   NaN      IR1   \n",
       "820    821          60       RL         72.0     7226   Pave   NaN      IR1   \n",
       "\n",
       "     LandContour Utilities  ... PoolArea PoolQC Fence MiscFeature MiscVal  \\\n",
       "57           Lvl    AllPub  ...        0    NaN   NaN         NaN       0   \n",
       "887          Lvl    AllPub  ...        0    NaN   NaN         NaN       0   \n",
       "1174         Lvl    AllPub  ...        0    NaN   NaN         NaN       0   \n",
       "1164         Lvl    AllPub  ...        0    NaN   NaN         NaN       0   \n",
       "820          Lvl    AllPub  ...        0    NaN   NaN         NaN       0   \n",
       "\n",
       "     MoSold YrSold  SaleType  SaleCondition  SalePrice  \n",
       "57        8   2006        WD         Normal     196500  \n",
       "887       4   2008        WD         Normal     135500  \n",
       "1174      7   2006        WD         Normal     239000  \n",
       "1164      6   2007        WD         Normal     194000  \n",
       "820       6   2008        WD         Normal     183000  \n",
       "\n",
       "[5 rows x 81 columns]"
      ]
     },
     "execution_count": 3,
     "metadata": {},
     "output_type": "execute_result"
    }
   ],
   "source": [
    "import pandas as pd\n",
    "\n",
    "house_price_df = pd.read_csv('C:/Users/hmins/Desktop/ML/house_prices-advanced-regression-techniques/train.csv')\n",
    "\n",
    "train = house_price_df.sample(frac=0.75, random_state=99)\n",
    "test = house_price_df.drop(train.index)\n",
    "\n",
    "train.head()"
   ]
  },
  {
   "cell_type": "code",
   "execution_count": 4,
   "id": "ca0a90ba",
   "metadata": {},
   "outputs": [],
   "source": [
    "# baseline : 기준모델\n",
    "\n",
    "# 회귀 : 타겟의 평균값 (또는 중앙값)\n",
    "# 분류 : 타겟의 값 중 가장 많은 것 (타겟의 최빈 클래스)\n",
    "# 시계열 : 이전 타임스탬프의 값\n",
    "\n",
    "# 다중회귀라서 평균값으로 사용"
   ]
  },
  {
   "cell_type": "code",
   "execution_count": 17,
   "id": "4541b3a7",
   "metadata": {},
   "outputs": [
    {
     "data": {
      "text/plain": [
       "57      196500\n",
       "887     135500\n",
       "1174    239000\n",
       "1164    194000\n",
       "820     183000\n",
       "         ...  \n",
       "987     395192\n",
       "200     140000\n",
       "732     222500\n",
       "540     315000\n",
       "691     755000\n",
       "Name: SalePrice, Length: 1095, dtype: int64"
      ]
     },
     "execution_count": 17,
     "metadata": {},
     "output_type": "execute_result"
    }
   ],
   "source": [
    "target = 'SalePrice'\n",
    "y_train = train[target]\n",
    "y_test = test[target]\n",
    "\n",
    "pred = y_train.mean()\n",
    "\n",
    "[pred]"
   ]
  },
  {
   "cell_type": "markdown",
   "id": "c7026475",
   "metadata": {},
   "source": [
    "### 회귀 예측 평가 지표\n",
    "* MAE(Mean Absolute Error) : (예측값 - 실제값)의 절댓값의 평균\n",
    "* RMSE(Root Mean Squared Error) : 예측값 - 실제값 의 제곱의 평균 루트\n",
    "-----------------\n",
    "* RMSE는 평균을 낼 때 루트n 을 사용하기 때문에 RMSE > MAE\n",
    "\\n\n",
    "-----------------\n",
    "### RMSE 장점\n",
    "* 큰 오류값 차이에 대해 크게 패널티를 부여함\n",
    "* 특이값에 휘둘리지 않는 RMSE를 더 많이 사용함"
   ]
  },
  {
   "cell_type": "code",
   "execution_count": 7,
   "id": "605240dd",
   "metadata": {},
   "outputs": [],
   "source": [
    "# MAE, RMSE 비교"
   ]
  },
  {
   "cell_type": "code",
   "execution_count": 15,
   "id": "672f9b3b",
   "metadata": {},
   "outputs": [
    {
     "name": "stdout",
     "output_type": "stream",
     "text": [
      "MAE : 59208.470\n"
     ]
    }
   ],
   "source": [
    "# y_train : 분리된 데이터\n",
    "\n",
    "from sklearn.metrics import mean_absolute_error\n",
    "\n",
    "y_pred = [pred] * len(y_train)\n",
    "mae = mean_absolute_error(y_train, y_pred)\n",
    "\n",
    "print(f'MAE : {mae:.3f}')"
   ]
  },
  {
   "cell_type": "code",
   "execution_count": 16,
   "id": "5cc66513",
   "metadata": {
    "scrolled": true
   },
   "outputs": [
    {
     "name": "stdout",
     "output_type": "stream",
     "text": [
      "RMSE : 81538.397\n"
     ]
    }
   ],
   "source": [
    "import numpy as np\n",
    "from sklearn.metrics import mean_squared_error\n",
    "\n",
    "y_pred = [pred] * len(y_train)\n",
    "mse = mean_squared_error(y_train, y_pred)\n",
    "rmse = np.sqrt(mse)\n",
    "\n",
    "print(f'RMSE : {rmse:.3f}')"
   ]
  },
  {
   "cell_type": "markdown",
   "id": "ce488db5",
   "metadata": {},
   "source": [
    "### 단독 회귀 모델"
   ]
  },
  {
   "cell_type": "code",
   "execution_count": 34,
   "id": "b09c7453",
   "metadata": {},
   "outputs": [
    {
     "name": "stdout",
     "output_type": "stream",
     "text": [
      "MAE : 38113.331 \n",
      "\n",
      "RMSE : 57470.212\n"
     ]
    }
   ],
   "source": [
    "from sklearn.linear_model import LinearRegression\n",
    "\n",
    "model = LinearRegression()\n",
    "\n",
    "feature = ['GrLivArea']\n",
    "\n",
    "X_train = train[feature]\n",
    "X_test = test[feature]\n",
    "\n",
    "model.fit(X_train, y_train)\n",
    "y_pred = model.predict(X_train)\n",
    "\n",
    "mse = mean_squared_error(y_train, y_pred)\n",
    "rmse = np.sqrt(mse)\n",
    "mae = mean_absolute_error(y_train, y_pred)\n",
    "\n",
    "print(f'MAE : {mae:.3f}','\\n')\n",
    "print(f'RMSE : {rmse:.3f}')"
   ]
  },
  {
   "cell_type": "code",
   "execution_count": 35,
   "id": "9cdc9405",
   "metadata": {},
   "outputs": [
    {
     "name": "stdout",
     "output_type": "stream",
     "text": [
      "MAE : 36662.735 \n",
      "\n",
      "RMSE : 51598.096\n"
     ]
    }
   ],
   "source": [
    "y_pred = model.predict(X_test)\n",
    "\n",
    "mse = mean_squared_error(y_test, y_pred)\n",
    "rmse = np.sqrt(mse)\n",
    "mae = mean_absolute_error(y_test, y_pred)\n",
    "\n",
    "\n",
    "print(f'MAE : {mae:.3f}','\\n')\n",
    "print(f'RMSE : {rmse:.3f}')"
   ]
  },
  {
   "cell_type": "markdown",
   "id": "ce162320",
   "metadata": {},
   "source": [
    "### 다중 회귀 모델"
   ]
  },
  {
   "cell_type": "code",
   "execution_count": 36,
   "id": "11fe2753",
   "metadata": {},
   "outputs": [
    {
     "name": "stdout",
     "output_type": "stream",
     "text": [
      "MAE : 36898.125 \n",
      "\n",
      "RMSE : 55747.818\n"
     ]
    }
   ],
   "source": [
    "features = ['GrLivArea',\n",
    "            'FullBath',\n",
    "            'LowQualFinSF']\n",
    "\n",
    "X_train = train[features]\n",
    "X_test = test[features]\n",
    "\n",
    "model.fit(X_train, y_train)\n",
    "y_pred = model.predict(X_train)\n",
    "\n",
    "mse = mean_squared_error(y_train, y_pred)\n",
    "rmse = np.sqrt(mse)\n",
    "mae = mean_absolute_error(y_train, y_pred)\n",
    "\n",
    "print(f'MAE : {mae:.3f}','\\n')\n",
    "print(f'RMSE : {rmse:.3f}')"
   ]
  },
  {
   "cell_type": "code",
   "execution_count": 37,
   "id": "3a52121b",
   "metadata": {},
   "outputs": [
    {
     "name": "stdout",
     "output_type": "stream",
     "text": [
      "MAE : 34747.762 \n",
      "\n",
      "RMSE : 49147.659\n"
     ]
    }
   ],
   "source": [
    "y_pred = model.predict(X_test)\n",
    "\n",
    "mse = mean_squared_error(y_test, y_pred)\n",
    "rmse = np.sqrt(mse)\n",
    "mae = mean_absolute_error(y_test, y_pred)\n",
    "\n",
    "\n",
    "print(f'MAE : {mae:.3f}','\\n')\n",
    "print(f'RMSE : {rmse:.3f}')"
   ]
  }
 ],
 "metadata": {
  "kernelspec": {
   "display_name": "Python 3 (ipykernel)",
   "language": "python",
   "name": "python3"
  },
  "language_info": {
   "codemirror_mode": {
    "name": "ipython",
    "version": 3
   },
   "file_extension": ".py",
   "mimetype": "text/x-python",
   "name": "python",
   "nbconvert_exporter": "python",
   "pygments_lexer": "ipython3",
   "version": "3.9.7"
  }
 },
 "nbformat": 4,
 "nbformat_minor": 5
}
